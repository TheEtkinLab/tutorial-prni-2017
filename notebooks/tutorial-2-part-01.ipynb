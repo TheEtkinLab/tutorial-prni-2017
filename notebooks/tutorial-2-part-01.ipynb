{
 "cells": [
  {
   "cell_type": "markdown",
   "metadata": {
    "collapsed": false
   },
   "source": [
    "# Tutorial 2, Part 1: Impact of uncentered measurements on functional connectivity\n",
    "\n",
    "The standard correlation matrix assumes data is distributed according to a one-way multivariate model. This assumption is violated in spatio-temporal measurements that come from fMRI.\n",
    "\n",
    "<!----# Introduction to Two-Way Models ---->\n",
    "<!---- Consider two bi-variate time-series, representing BOLD signals at either two voxels or two regions of interest. ----->\n",
    "<!---- $x_{1,t} = \\mu_1 + e_{1,t}, \\quad x_{2,t} = \\mu_2 + e_{2,t}$ ---->\n",
    "\n",
    "### Content\n",
    "\n",
    "#### 1. [Simulate null functional connectivity using centered one-way multivariate normal](#one-way)\n",
    "#### 2. [Simulate null functional connectivity using row-uncentered two-way multivariate normal](#two-way)\n",
    "#### 3. [Histogram of correlation coefficients without centering two-way data](#biased-correlations)\n",
    "\n",
    "Conclusion: Standard pairwise correlation intended for one-way measurements is a statistically biased estimator for uncentered two-way measurements"
   ]
  },
  {
   "cell_type": "markdown",
   "metadata": {
    "collapsed": false
   },
   "source": [
    "### Simulate one-way multivariate data. \n",
    "Default simulation uses `p=50` brain regions and `m=200` BOLD fMRI volumes or measurements with null correlation matrix `sigma`\n",
    "<a id=\"one-way\"></a>"
   ]
  },
  {
   "cell_type": "code",
   "execution_count": 3,
   "metadata": {
    "collapsed": false,
    "tags": [
     "#code",
     "#hide"
    ]
   },
   "outputs": [
    {
     "data": {
      "image/png": "[encoded data removed]"
     }
    },
    {
     "data": {
      "image/png": "[encoded data removed]"
     }
    }
   ],
   "source": [
    "% Simulate one-way multivariate data \n",
    "%%%%%%%%%%%%%%%%%%%%%%%%%%%%%%%%%%%%%\n",
    "% Dimensions or Features \n",
    "p = 50; \n",
    "% Measurements or Observations\n",
    "m = 200; \n",
    "%%%%%%%%%%%%%%%%%%%%%%%%%%%%%%%%%%%%%\n",
    "\n",
    "% Multivariate, i.i.d normal data\n",
    "rcen_mean = @(mu)(repmat(mu,[m 1])); \n",
    "rcen_mvnsim = @(mu,sigma)(rcen_mean(mu) + randn(m,p)*sqrtm(sigma)); \n",
    "title = @(tstring)(title(tstring,'fontsize',16)); \n",
    "\n",
    "mu = zeros(1,p); \n",
    "sigma = eye(p); \n",
    "X = rcen_mvnsim(mu,sigma); \n",
    "figure;\n",
    "subplot(1,2,1); \n",
    "imagesc(rcen_mean(mu)); colorbar;\n",
    "title('Row-centered, Mean')\n",
    "subplot(1,2,2); \n",
    "Shat_centered = corr(X); \n",
    "imagesc(Shat_centered); colormap(summer);  colorbar; axis image equal;\n",
    "title(sprintf('Sample Correlation. \\n  Centered mean m=%d, p=%d',m,p)); set(gca,'fontsize',18)\n",
    "figure;\n",
    "hist_norm = 1;\n",
    "hist(triu(Shat_centered,1),100,hist_norm);ylim([0 hist_norm*1.1]); xlim([-.5 .5]); \n",
    "title('Histogram of off-diagonal correlations')"
   ]
  },
  {
   "cell_type": "markdown",
   "metadata": {
    "collapsed": false
   },
   "source": [
    "### Simulate null functional connectivity using row uncentered two-way model\n",
    "<a id=\"two-way\"></a>\n",
    "Default simuluation now adds a random offset for each measurement. This can be modified by setting `rsignal` to some non-zero value. "
   ]
  },
  {
   "cell_type": "code",
   "execution_count": 4,
   "metadata": {
    "collapsed": false
   },
   "outputs": [
   ],
   "source": [
    "% Simulate row uncentered two-way multivariate data \n",
    "% Vary amount of the row offset by changing signal. Default signal = 1; \n",
    "%%%%%%%%%%%%%%%%%%%%%%%%%%%%%%%%%%%%%%%%%%\n",
    "rsignal = 2; csignal = 0;  rand('seed',0); \n",
    "%%%%%%%%%%%%%%%%%%%%%%%%%%%%%%%%%%%%%%%%%%\n",
    "% %Constant offset for each feature\n",
    "% row_offset = ones(m,1)*.25*sqrt(signal);\n",
    "%\n",
    "% Random offset for each observation\n",
    "row_offset = rsignal + randn(m,1)*.25*sqrt(rsignal);     \n",
    "%%%%%%%%%%%%%%%%%%%%%%%%%%%%%%%%%%%%%%%%%%\n",
    "% Random offset for each feature. Default 0. \n",
    "mu = csignal + randn(1,p)*.25*sqrt(csignal);     \n",
    "%%%%%%%%%%%%%%%%%%%%%%%%%%%%%%%%%%%%%%%%%%\n",
    "\n",
    "rncen_mean = @(mu)(repmat(mu,[m 1])+repmat(row_offset,[1 p])); \n",
    "rncen_mvnsim = @(mu,sigma)(rncen_mean(mu) + randn(m,p)*sqrtm(sigma)); "
   ]
  },
  {
   "cell_type": "markdown",
   "metadata": {
    "collapsed": false
   },
   "source": [
    "### Examine the uncentered data\n",
    "<a id=\"uncentered-data\"></a>"
   ]
  },
  {
   "cell_type": "code",
   "execution_count": 8,
   "metadata": {
    "collapsed": false
   },
   "outputs": [
    {
     "name": "stdout",
     "output_type": "stream",
     "text": [
      "Center the features (columns or brain regions or voxels)\n"
     ]
    },
    {
     "name": "stdout",
     "output_type": "stream",
     "text": [
      ".....\n"
     ]
    },
    {
     "name": "stdout",
     "output_type": "stream",
     "text": [
      "Mean signal corresponding to Regions.  Region 1, ...., Region 5\n"
     ]
    },
    {
     "name": "stdout",
     "output_type": "stream",
     "text": [
      "ans =\n"
     ]
    },
    {
     "name": "stdout",
     "output_type": "stream",
     "text": [
      "\n"
     ]
    },
    {
     "name": "stdout",
     "output_type": "stream",
     "text": [
      "  -8.2601e-16  -4.7296e-16  -1.1458e-15  -1.0514e-15  -9.7478e-16\n"
     ]
    },
    {
     "name": "stdout",
     "output_type": "stream",
     "text": [
      "\n"
     ]
    },
    {
     "name": "stdout",
     "output_type": "stream",
     "text": [
      "Mean \"brain wide\" signal at each measurement due to measurement error. Observation 1, ...., Observation 5\n"
     ]
    },
    {
     "name": "stdout",
     "output_type": "stream",
     "text": [
      "ans =\n"
     ]
    },
    {
     "name": "stdout",
     "output_type": "stream",
     "text": [
      "\n"
     ]
    },
    {
     "name": "stdout",
     "output_type": "stream",
     "text": [
      "  -0.154242   0.075572   0.353733  -0.690877   0.017067\n"
     ]
    },
    {
     "name": "stdout",
     "output_type": "stream",
     "text": [
      "\n"
     ]
    }
   ],
   "source": [
    "Xnc = rncen_mvnsim(mu,sigma); \n",
    "disp('Center the features (columns or brain regions or voxels)')\n",
    "Xnc = bsxfun(@minus,Xnc,mean(Xnc));\n",
    "mu_c_hat = mean(Xnc);\n",
    "mu_r_hat = mean(Xnc');\n",
    "disp('.....')\n",
    "disp('Mean signal corresponding to Regions.  Region 1, ...., Region 5')\n",
    "mu_c_hat(1:5)\n",
    "disp('Mean \"brain wide\" signal at each measurement due to measurement error. Observation 1, ...., Observation 5')\n",
    "mu_r_hat(1:5)"
   ]
  },
  {
   "cell_type": "markdown",
   "metadata": {
    "collapsed": false
   },
   "source": [
    "### Histogram of correlation coefficients\n",
    "<a id=\"biased-correlations\"></a>\n",
    "\n",
    "Though all population correlation coefficients are zero 0. Sample correlation coefficients are statistically biased due to uncentered measurements. \n",
    "Excercise: Try increasing the number of measurements $m$. "
   ]
  },
  {
   "cell_type": "code",
   "execution_count": 10,
   "metadata": {
    "collapsed": false
   },
   "outputs": [
    {
     "data": {
      "image/png": "[encoded data removed]"
     }
    },
    {
     "data": {
      "image/png": "[encoded data removed]"
     }
    }
   ],
   "source": [
    "Xnc = rncen_mvnsim(mu,sigma); \n",
    "figure;\n",
    "subplot(1,2,1); \n",
    "imagesc(rncen_mean(mu)); colorbar; \n",
    "title('Row uncentered, Mean')\n",
    "subplot(1,2,2); \n",
    "Shat_ncentered = corr(Xnc);  \n",
    "imagesc(Shat_ncentered); colormap(summer);  colorbar; axis image equal;\n",
    "title(sprintf('Sample Correlation. \\n Uncentered mean m=%d, p=%d',m,p)); set(gca,'fontsize',18)\n",
    "figure;\n",
    "hist_norm = 1;\n",
    "hist(triu(Shat_ncentered,1),100,hist_norm);ylim([0 hist_norm*1.1]); xlim([-.5 .5]); \n",
    "title('Histogram of off-diagonal correlations')"
   ]
  }
 ],
 "metadata": {
  "kernelspec": {
   "display_name": "Octave",
   "language": "octave",
   "name": "octave"
  },
  "language_info": {
   "file_extension": ".m",
   "help_links": [
    {
     "text": "GNU Octave",
     "url": "https://www.gnu.org/software/octave/support.html"
    },
    {
     "text": "Octave Kernel",
     "url": "https://github.com/Calysto/octave_kernel"
    },
    {
     "text": "MetaKernel Magics",
     "url": "https://github.com/calysto/metakernel/blob/master/metakernel/magics/README.md"
    }
   ],
   "mimetype": "text/x-octave",
   "name": "octave",
   "version": "4.0.0"
  }
 },
 "nbformat": 4,
 "nbformat_minor": 0
}