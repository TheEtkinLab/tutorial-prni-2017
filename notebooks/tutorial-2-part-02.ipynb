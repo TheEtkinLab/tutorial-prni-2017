{
 "cells": [
  {
   "cell_type": "markdown",
   "metadata": {
    "collapsed": false
   },
   "source": [
    "# Part-2: Demonstration of two procedures\n",
    "\n",
    "### Contents\n",
    "---\n",
    "#### 1. [Load Data](#load-data)\n",
    "\n",
    "#### 2. [Successive Normalization Example](#succ-norm)\n",
    "\n",
    "#### 3. [Nuisance Correlation Example](#nuisance-gsr)"
   ]
  },
  {
   "cell_type": "code",
   "execution_count": 1,
   "metadata": {
    "collapsed": false
   },
   "outputs": [
   ],
   "source": [
    "%Add path\n",
    "run('setup.m');\n",
    "datadir = fullfile(basedir,'data');\n",
    "filename = 'ABIDE_controlData_7Sites';\n",
    "load(fullfile(datadir,filename));\n",
    "load(fullfile(datadir,'cc200Map2Communities'))\n",
    "max_recursion_depth(1024)"
   ]
  },
  {
   "cell_type": "markdown",
   "metadata": {
    "collapsed": false
   },
   "source": [
    "### Load subject data from an ABIDE site\n",
    "<a id=\"load-data\"></a>\n"
   ]
  },
  {
   "cell_type": "code",
   "execution_count": 2,
   "metadata": {
    "collapsed": false,
    "scrolled": true
   },
   "outputs": [
    {
     "name": "stdout",
     "output_type": "stream",
     "text": [
      "Fields in dataset\n"
     ]
    },
    {
     "name": "stdout",
     "output_type": "stream",
     "text": [
      "ans = \n"
     ]
    },
    {
     "name": "stdout",
     "output_type": "stream",
     "text": [
      "{\n"
     ]
    },
    {
     "name": "stdout",
     "output_type": "stream",
     "text": [
      "  [1,1] = signals\n"
     ]
    },
    {
     "name": "stdout",
     "output_type": "stream",
     "text": [
      "  [2,1] = subIDs\n"
     ]
    },
    {
     "name": "stdout",
     "output_type": "stream",
     "text": [
      "  [3,1] = age\n"
     ]
    },
    {
     "name": "stdout",
     "output_type": "stream",
     "text": [
      "  [4,1] = gender\n"
     ]
    },
    {
     "name": "stdout",
     "output_type": "stream",
     "text": [
      "  [5,1] = dataName\n"
     ]
    },
    {
     "name": "stdout",
     "output_type": "stream",
     "text": [
      "}\n"
     ]
    },
    {
     "name": "stdout",
     "output_type": "stream",
     "text": [
      "signals contains subjects x brain regions x time-series\n"
     ]
    },
    {
     "name": "stdout",
     "output_type": "stream",
     "text": [
      "    15   197   246\n"
     ]
    }
   ],
   "source": [
    "disp('Fields in dataset')\n",
    "fieldnames(data{1})\n",
    "disp('signals contains subjects x brain regions x time-series')\n",
    "disp(size(data{1}.signals))\n",
    "\n",
    "subjectno=1;\n",
    "dataset=1;\n",
    "[~,reorder_communities] = sort(mapToCommunities,'ascend');\n",
    "X = squeeze(data{dataset}.signals(subjectno,reorder_communities,:))';\n",
    "Y = mean(X,2);"
   ]
  },
  {
   "cell_type": "markdown",
   "metadata": {
    "collapsed": false
   },
   "source": [
    "### Demonstration of Successive Normalization\n",
    "<a id=\"succ-norm\"></a>\n"
   ]
  },
  {
   "cell_type": "code",
   "execution_count": 3,
   "metadata": {
    "collapsed": false
   },
   "outputs": [
    {
     "name": "stdout",
     "output_type": "stream",
     "text": [
      "ans = 0\n"
     ]
    },
    {
     "data": {
      "image/png": "[encoded data removed]"
     }
    },
    {
     "data": {
      "image/png": "[encoded data removed]"
     }
    }
   ],
   "source": [
    "results = demo_successive_norm(X);"
   ]
  },
  {
   "cell_type": "markdown",
   "metadata": {
    "collapsed": false
   },
   "source": [
    "### Demonstration of Nuisance Correlation Matrix with Global Signal Regression\n",
    "<a id=\"nuisance-gsr\"></a>"
   ]
  },
  {
   "cell_type": "code",
   "execution_count": 4,
   "metadata": {
    "collapsed": false
   },
   "outputs": [
    {
     "name": "stdout",
     "output_type": "stream",
     "text": [
      "ans = 0\n"
     ]
    },
    {
     "name": "stdout",
     "output_type": "stream",
     "text": [
      "ans = tmp/22-Jun-2017-2125/sample_conditional_correlation\n"
     ]
    },
    {
     "name": "stdout",
     "output_type": "stream",
     "text": [
      "GPL Ghostscript 9.16: **** Could not open the file tmp/22-Jun-2017-2125/sample_conditional_correlation.pdf .\n"
     ]
    },
    {
     "data": {
      "image/png": "[encoded data removed]"
     }
    },
    {
     "data": {
      "image/png": "[encoded data removed]"
     }
    }
   ],
   "source": [
    "results = demo_conditional_correlation(X,Y);"
   ]
  }
 ],
 "metadata": {
  "kernelspec": {
   "display_name": "Octave",
   "language": "octave",
   "name": "octave"
  },
  "language_info": {
   "file_extension": ".m",
   "help_links": [
    {
     "text": "GNU Octave",
     "url": "https://www.gnu.org/software/octave/support.html"
    },
    {
     "text": "Octave Kernel",
     "url": "https://github.com/Calysto/octave_kernel"
    },
    {
     "text": "MetaKernel Magics",
     "url": "https://github.com/calysto/metakernel/blob/master/metakernel/magics/README.md"
    }
   ],
   "mimetype": "text/x-octave",
   "name": "octave",
   "version": "4.0.0"
  }
 },
 "nbformat": 4,
 "nbformat_minor": 0
}